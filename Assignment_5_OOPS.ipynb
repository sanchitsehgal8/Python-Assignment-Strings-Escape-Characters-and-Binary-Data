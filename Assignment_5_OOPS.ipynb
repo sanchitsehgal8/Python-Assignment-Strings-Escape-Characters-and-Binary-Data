{
  "cells": [
    {
      "cell_type": "markdown",
      "metadata": {
        "id": "view-in-github",
        "colab_type": "text"
      },
      "source": [
        "<a href=\"https://colab.research.google.com/github/sanchitsehgal8/Python-Assignment-Strings-Escape-Characters-and-Binary-Data/blob/main/Assignment_5_OOPS.ipynb\" target=\"_parent\"><img src=\"https://colab.research.google.com/assets/colab-badge.svg\" alt=\"Open In Colab\"/></a>"
      ]
    },
    {
      "cell_type": "markdown",
      "metadata": {
        "id": "y_mBq6u2_RdF"
      },
      "source": [
        "Assignment 5\n"
      ]
    },
    {
      "cell_type": "code",
      "execution_count": null,
      "metadata": {
        "colab": {
          "base_uri": "https://localhost:8080/"
        },
        "id": "lE7tSYLg_TR7",
        "outputId": "4094b84a-cc78-46eb-9a8c-de1be52f1e20"
      },
      "outputs": [
        {
          "name": "stdout",
          "output_type": "stream",
          "text": [
            "Hello\n",
            "my\tname\\ is   sanchit@ sehgal\n"
          ]
        }
      ],
      "source": [
        "# PART A\n",
        "text = \"Hello\\nmy\\tname\\\\ is \\040 sanchit\\x40 sehgal\"\n",
        "\n",
        "print(text)\n"
      ]
    },
    {
      "cell_type": "code",
      "execution_count": null,
      "metadata": {
        "colab": {
          "base_uri": "https://localhost:8080/"
        },
        "id": "HZV3BOFwB1Cn",
        "outputId": "b15b4b18-aa5a-4406-ff8a-122ecf072664"
      },
      "outputs": [
        {
          "name": "stdout",
          "output_type": "stream",
          "text": [
            "S.NO\t Name\t Age\t Occupation\n",
            " 1\tSanchit\t19\tAi engineer\n",
            "A\n",
            "A\n"
          ]
        }
      ],
      "source": [
        "print(\"S.NO\\t Name\\t Age\\t Occupation\\n 1\\tSanchit\\t19\\tAi engineer\")\n"
      ]
    },
    {
      "cell_type": "code",
      "execution_count": null,
      "metadata": {
        "colab": {
          "base_uri": "https://localhost:8080/"
        },
        "id": "STK_zcc2Cc8E",
        "outputId": "bed7c8c8-6c6c-437b-c3ee-1d472eaf5551"
      },
      "outputs": [
        {
          "name": "stdout",
          "output_type": "stream",
          "text": [
            "Original: sanchit\n",
            "UTF-8 Bytes: b'sanchit'\n",
            "Hex Escapes:   \\x115\\x97\\x110\\x99\\x104\\x105\\x116\n",
            "Octal Escapes: \\115\\97\\110\\99\\104\\105\\116\n"
          ]
        }
      ],
      "source": [
        "def ascii_escape(text):\n",
        "\n",
        "    encoded = text.encode(\"utf-8\")\n",
        "\n",
        "\n",
        "    hex_escape = \"\".join(f\"\\\\x{b}\" for b in encoded)\n",
        "    oct_escape = \"\".join(f\"\\\\{b}\" for b in encoded)\n",
        "\n",
        "    print(f\"Original: {text}\")\n",
        "\n",
        "    print(f\"Hex Escapes:   {hex_escape}\")\n",
        "    print(f\"Octal Escapes: {oct_escape}\")\n",
        "\n",
        "\n",
        "\n",
        "ascii_escape(\"sanchit\")\n"
      ]
    },
    {
      "cell_type": "code",
      "execution_count": null,
      "metadata": {
        "colab": {
          "base_uri": "https://localhost:8080/"
        },
        "id": "z02QXJpUGtUt",
        "outputId": "dc2c5db0-e24b-4de4-b34f-3aa81c6c4306"
      },
      "outputs": [
        {
          "name": "stdout",
          "output_type": "stream",
          "text": [
            "3\n",
            "b'\\x02\\x10\\xc3\\xbf'\n",
            "Decimal value: 2\n",
            " Hexadecimal value: \\2\n",
            "Binary Representation: 0b10\n",
            "Decimal value: 16\n",
            " Hexadecimal value: \\16\n",
            "Binary Representation: 0b10000\n",
            "Decimal value: 195\n",
            " Hexadecimal value: \\195\n",
            "Binary Representation: 0b11000011\n",
            "Decimal value: 191\n",
            " Hexadecimal value: \\191\n",
            "Binary Representation: 0b10111111\n"
          ]
        }
      ],
      "source": [
        "# PART B\n",
        "\n",
        "packet = \"\\x02\\x10\\xff\"\n",
        "print(len(packet))\n",
        "b = packet.encode(\"utf-8\")\n",
        "print(b)\n",
        "for byte in b:\n",
        "    print(f\"Decimal value: {byte}\\n Hexadecimal value: \\\\{byte}\\n Binary Representation: {bin(byte)}\")"
      ]
    },
    {
      "cell_type": "code",
      "execution_count": null,
      "metadata": {
        "colab": {
          "base_uri": "https://localhost:8080/"
        },
        "id": "aLPsM47YKSGs",
        "outputId": "c8f0cac4-1115-4f89-8b90-99b0e34c8977"
      },
      "outputs": [
        {
          "name": "stdout",
          "output_type": "stream",
          "text": [
            "Valid packet: lesgooo\n"
          ]
        }
      ],
      "source": [
        "def read_packet(packet):\n",
        "  if(packet.startswith(\"\\x02\")and packet.endswith(\"\\x03\")):\n",
        "    message = packet[1:-1]\n",
        "    print(f\"Valid packet: {message}\")\n",
        "  else:\n",
        "    print(\"Invalid packet\")\n",
        "\n",
        "packet = \"\\x02lesgooo\\x03\"\n",
        "read_packet(packet)"
      ]
    },
    {
      "cell_type": "code",
      "execution_count": null,
      "metadata": {
        "colab": {
          "base_uri": "https://localhost:8080/"
        },
        "id": "pwfnLt6oLofa",
        "outputId": "82e83963-4d3d-4f82-fe42-3620e2fe5723"
      },
      "outputs": [
        {
          "name": "stdout",
          "output_type": "stream",
          "text": [
            "b'\\x89PNG\\r\\n\\x1a\\n\\x00\\x00'\n",
            "Valid PNG file\n"
          ]
        }
      ],
      "source": [
        "with open(\"image.png\", \"rb\") as f:\n",
        "    data = f.read()\n",
        "\n",
        "print(data[:10])\n",
        "if(data.startswith(b\"\\x89PNG\\r\\n\\x1a\\n\")):\n",
        "  print(\"Valid PNG file\")\n",
        "else:\n",
        "  print(\"Invalid PNG file\")"
      ]
    },
    {
      "cell_type": "code",
      "execution_count": null,
      "metadata": {
        "colab": {
          "base_uri": "https://localhost:8080/"
        },
        "id": "Ex1VuIF2M2DM",
        "outputId": "68dd63a2-7acd-4e39-b537-339bfd96205e"
      },
      "outputs": [
        {
          "name": "stdout",
          "output_type": "stream",
          "text": [
            "b'\\x00\\x00'\n",
            "b'\\x02\\x00\\x00ok\\x03'\n",
            "Valid packet: b'ok'\n"
          ]
        }
      ],
      "source": [
        "def build_packet(mess):\n",
        "  start = b\"\\x02\"\n",
        "  end = b\"\\x03\"\n",
        "  length= len(mess)\n",
        "  length_byte= bytes(length)\n",
        "  print(length_byte)\n",
        "  mess_byte = mess.encode('utf-8')\n",
        "  print(start+length_byte+mess_byte+end)\n",
        "\n",
        "def parse_packet(packet):\n",
        "  if(packet.startswith(b\"\\x02\")and packet.endswith(b\"\\x03\")):\n",
        "    message = packet[3:-1]\n",
        "    print(f\"Valid packet: {message}\")\n",
        "  else:\n",
        "    print(\"Invalid packet\")\n",
        "\n",
        "\n",
        "build_packet(\"ok\")\n",
        "parse_packet(b'\\x02\\x00\\x00ok\\x03')"
      ]
    },
    {
      "cell_type": "code",
      "execution_count": null,
      "metadata": {
        "colab": {
          "background_save": true
        },
        "id": "9FjEzfl_Oz37",
        "outputId": "d565aa86-224e-40c6-9401-a7b88987a289"
      },
      "outputs": [
        {
          "name": "stdout",
          "output_type": "stream",
          "text": [
            "Hex representation of header:\n",
            "0x52 0x49 0x46 0x46 0x24 0x0 0x0 0x0 0x57 0x41 0x56 0x45 "
          ]
        }
      ],
      "source": [
        "#PART D\n"
      ]
    }
  ],
  "metadata": {
    "colab": {
      "provenance": [],
      "authorship_tag": "ABX9TyN+8Rk/izXDz9oaEJXtIkcq",
      "include_colab_link": true
    },
    "kernelspec": {
      "display_name": "Python 3",
      "name": "python3"
    },
    "language_info": {
      "name": "python"
    }
  },
  "nbformat": 4,
  "nbformat_minor": 0
}